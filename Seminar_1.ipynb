{
 "cells": [
  {
   "cell_type": "markdown",
   "metadata": {
    "id": "FRg6toEWvZXc"
   },
   "source": [
    "# Задание 1. Проверка чётности числа\n",
    "Введите число и проверьте, является ли оно чётным."
   ]
  },
  {
   "cell_type": "code",
   "execution_count": 6,
   "metadata": {
    "id": "HBQTKjtlvi6y"
   },
   "outputs": [
    {
     "name": "stdin",
     "output_type": "stream",
     "text": [
      "Введите число:  2\n"
     ]
    },
    {
     "name": "stdout",
     "output_type": "stream",
     "text": [
      "Число чётное\n"
     ]
    }
   ],
   "source": [
    "number = int(input(\"Введите число: \"))\n",
    "\n",
    "if number % 2 == 0:\n",
    "    print(\"Число чётное\")\n",
    "else:\n",
    "    print(\"Число не чётное\")"
   ]
  },
  {
   "cell_type": "markdown",
   "metadata": {
    "id": "vtsMCJcLwKqT"
   },
   "source": [
    "# Задание 2. Сумма чисел от 1 до 10\n",
    "Используйте цикл for для подсчета суммы чисел от 1 до 10."
   ]
  },
  {
   "cell_type": "code",
   "execution_count": 1,
   "metadata": {
    "id": "E_x0got0wKH1"
   },
   "outputs": [
    {
     "name": "stdout",
     "output_type": "stream",
     "text": [
      "Сумма чисел от 1 до 10: 55\n"
     ]
    }
   ],
   "source": [
    "total = 0\n",
    "for i in list(range(1,11)):\n",
    "    total += i\n",
    "print(\"Сумма чисел от 1 до 10:\", total)"
   ]
  },
  {
   "cell_type": "markdown",
   "metadata": {
    "id": "piY0FQF7xcEJ"
   },
   "source": [
    "# Задание 3. Поиск индекса числа в списке\n",
    "Используйте цикл while для поиска индекса числа в списке. Также вам поможет оператор break()"
   ]
  },
  {
   "cell_type": "code",
   "execution_count": null,
   "metadata": {
    "id": "FVxNctT3x1wk"
   },
   "outputs": [],
   "source": [
    "numbers = [1, 3, 5, 7, 9]\n",
    "target = 5\n",
    "i = 0\n",
    "\n",
    "while i < len(numbers):\n",
    "    # ваш код:\n",
    "    if numbers[index] == num_to_find:\n",
    "        print(f\"Число {target} найдено на индексе {i}\")\n",
    "        break  # выходим из цикла, когда число найдено\n",
    "    #ваш код\n",
    "else:\n",
    "    print(f\"Число {target} не найдено в списке\")"
   ]
  },
  {
   "cell_type": "markdown",
   "metadata": {
    "id": "5YdZjYnBy_3U"
   },
   "source": [
    "# Задание 4. Остановка цикла при чётном числе\n",
    "Используйте цикл `for` для поиска чётного числа и `break` для прерывания при его нахождении."
   ]
  },
  {
   "cell_type": "code",
   "execution_count": null,
   "metadata": {
    "id": "sVHXQReyzGIa"
   },
   "outputs": [],
   "source": [
    "# Ваш код"
   ]
  },
  {
   "cell_type": "markdown",
   "metadata": {
    "id": "iEAQe3THz65c"
   },
   "source": [
    "# Задание 5. Пропуск нечётных чисел\n",
    "Используйте цикл `for` для перебора чисел и пропуска `continue` нечётных чисел."
   ]
  },
  {
   "cell_type": "code",
   "execution_count": null,
   "metadata": {
    "id": "4P-yuw90z7dp"
   },
   "outputs": [],
   "source": [
    "# Ваш код...\n",
    "for # ваш код\n",
    "    print(f\"Чётное число: {num}\")"
   ]
  },
  {
   "cell_type": "markdown",
   "metadata": {
    "id": "UNpbO-GcIXLR"
   },
   "source": [
    "# Для заданий 7, 8, 9"
   ]
  },
  {
   "cell_type": "code",
   "execution_count": null,
   "metadata": {
    "id": "ohVUnsza-YTX"
   },
   "outputs": [],
   "source": [
    "# Переменные разных типов данных\n",
    "integer_number = 10\n",
    "floating_number = 2.5\n",
    "first_string = \"Hello\"\n",
    "second_string = \"World\"\n",
    "boolean_value = True #логическая переменная"
   ]
  },
  {
   "cell_type": "markdown",
   "metadata": {
    "id": "rjE47m9Y-xVQ"
   },
   "source": [
    "# Задание 7. Сложите целое число с числом с плавающей точкой."
   ]
  },
  {
   "cell_type": "code",
   "execution_count": null,
   "metadata": {
    "id": "VQrqfLBx-huU"
   },
   "outputs": [],
   "source": [
    "# Ваш код...\n"
   ]
  },
  {
   "cell_type": "markdown",
   "metadata": {
    "id": "h3gWyjB7_HrE"
   },
   "source": [
    "# Задание 8. Объедините две строки."
   ]
  },
  {
   "cell_type": "code",
   "execution_count": null,
   "metadata": {
    "id": "JYawHY7h_I6F"
   },
   "outputs": [],
   "source": [
    "# Ваш код..."
   ]
  },
  {
   "cell_type": "markdown",
   "metadata": {
    "id": "uHj-350z_KPM"
   },
   "source": [
    "# Задание 9. Инвертируйте (поменять в противоположное) логическое значение"
   ]
  },
  {
   "cell_type": "code",
   "execution_count": null,
   "metadata": {
    "id": "yRqPg_Wb_Xoi"
   },
   "outputs": [],
   "source": [
    "# Ваш код..."
   ]
  },
  {
   "cell_type": "markdown",
   "metadata": {
    "id": "uVyToVlyDTjN"
   },
   "source": [
    "# Задание 10. Расчет периметра и площади прямоугольника.\n",
    "Создайте функцию `rectangle_properties`, которая принимает длину и ширину прямоугольника и возвращает кортеж, содержащий периметр и площадь прямоугольника."
   ]
  },
  {
   "cell_type": "code",
   "execution_count": null,
   "metadata": {
    "id": "gUh6Uc-jDRmO"
   },
   "outputs": [],
   "source": [
    "# Функция для расчета периметра и площади\n",
    "def rectangle_properties(length, width):\n",
    "    # Ваш код...\n",
    "    return perimeter, area\n",
    "\n",
    "# Вызов функции\n",
    "p, a = rectangle_properties(5, 3)\n",
    "print(f\"Периметр: {p}, Площадь: {a}\")"
   ]
  },
  {
   "cell_type": "markdown",
   "metadata": {
    "id": "s1cCQye0D6WP"
   },
   "source": [
    "# Задание 11. Сортировка списка по длине строк\n",
    "Инструкция: Напишите функцию sort_by_length, которая принимает список строк и возвращает новый список, отсортированный по длине строк в порядке возрастания."
   ]
  },
  {
   "cell_type": "code",
   "execution_count": null,
   "metadata": {
    "id": "OeU9Rd6JEZwG"
   },
   "outputs": [],
   "source": [
    "# Функция для сортировки строк по длине\n",
    "# Ваш код...\n",
    "\n",
    "# Вызов функции\n",
    "words = [\"apple\", \"banana\", \"cherry\", \"date\"]\n",
    "sorted_words = sort_by_length(words)\n",
    "sorted_words"
   ]
  },
  {
   "cell_type": "markdown",
   "metadata": {
    "id": "fy4kcnEIE3Ye"
   },
   "source": [
    "# Задание 12. Удаление дубликатов из списка\n",
    "Инструкция: Напишите функцию remove_duplicates, которая принимает список и возвращает новый список, содержащий только уникальные элементы из исходного списка."
   ]
  },
  {
   "cell_type": "code",
   "execution_count": null,
   "metadata": {
    "id": "wflgbpgjE2Uf"
   },
   "outputs": [],
   "source": [
    "# Функция для удаления дубликатов из списка\n",
    "# Ваш код...\n",
    "\n",
    "# Вызов функции\n",
    "numbers = [1, 2, 2, 3, 4, 4, 5]\n",
    "unique_numbers = remove_duplicates(numbers)\n",
    "unique_numbers"
   ]
  },
  {
   "cell_type": "markdown",
   "metadata": {
    "id": "W7LjK8c_FTPH"
   },
   "source": [
    "# Задание 13. Подсчет количества слов в строке\n",
    "Инструкция: Напишите функцию word_count, которая принимает строку и возвращает количество слов в этой строке. Слова разделяются пробелами."
   ]
  },
  {
   "cell_type": "code",
   "execution_count": null,
   "metadata": {
    "id": "yZlE38PdFVqt"
   },
   "outputs": [],
   "source": [
    "# Функция для подсчета количества слов в строке\n",
    "# Ваш код...\n",
    "\n",
    "\n",
    "# Вызов функции\n",
    "sentence = \"Python is a powerful programming language\"\n",
    "count = word_count(sentence)\n",
    "count"
   ]
  },
  {
   "cell_type": "markdown",
   "metadata": {
    "id": "ZBNWGr1PFtIG"
   },
   "source": [
    "# Задание 14. Сортировка словарей по значению\n",
    "Инструкция: Напишите функцию sort_dict_by_value, которая принимает словарь и возвращает список кортежей (ключ, значение), отсортированный по значению в порядке возрастания."
   ]
  },
  {
   "cell_type": "code",
   "execution_count": null,
   "metadata": {
    "id": "_T7SmjpvFrGp"
   },
   "outputs": [],
   "source": [
    "# Функция для сортировки словаря по значениям\n",
    "# Ваш код...\n",
    "\n",
    "# Вызов функции\n",
    "sample_dict = {'apple': 2, 'banana': 4, 'cherry': 1, 'date': 3}\n",
    "sorted_dict = sort_dict_by_value(sample_dict)\n",
    "sorted_dict"
   ]
  },
  {
   "cell_type": "markdown",
   "metadata": {
    "id": "GghBI6n7GKRg"
   },
   "source": [
    "# Задание 15. Поиск общих элементов в двух списках\n",
    "Инструкция: Напишите функцию find_common_elements, которая принимает два списка и возвращает список общих элементов."
   ]
  },
  {
   "cell_type": "code",
   "execution_count": null,
   "metadata": {
    "id": "U7j6l9kIGJgj"
   },
   "outputs": [],
   "source": [
    "# Функция для поиска общих элементов\n",
    "# Ваш код\n",
    "\n",
    "# Вызов функции\n",
    "list_a = [1, 2, 3, 4, 5]\n",
    "list_b = [4, 5, 6, 7, 8]\n",
    "common_elements = find_common_elements(list_a, list_b)\n",
    "common_elements"
   ]
  },
  {
   "cell_type": "markdown",
   "metadata": {
    "id": "q3and6sfGxMS"
   },
   "source": [
    "# Задание 16. Вложенная функция для вычисления суммы и произведения\n",
    "Создайте функцию calculate, которая принимает два числа и внутри себя определяет две вложенные функции: add и multiply. Функция calculate должна возвращать результат сложения и произведения чисел, используя вложенные функции."
   ]
  },
  {
   "cell_type": "code",
   "execution_count": null,
   "metadata": {
    "id": "uhIypca-HACA"
   },
   "outputs": [],
   "source": [
    "# Основная функция с вложенными функциями\n",
    "def calculate(x, y):\n",
    "  # Ваш код...\n",
    "\n",
    "  return sum_result, product_result\n",
    "\n",
    "# Вызов функции\n",
    "result = calculate(5, 3)\n",
    "print(\"Сумма:\", result[0])\n",
    "print(\"Произведение:\", result[1])"
   ]
  },
  {
   "cell_type": "markdown",
   "metadata": {
    "id": "Dwsmc18JHyIZ"
   },
   "source": [
    "# Задание 17. Вложенные функции для вычисления среднего арифметического\n",
    "Создайте функцию average_calculator, которая принимает список чисел. Внутри нее определите вложенную функцию calculate_average, которая вычисляет среднее арифметическое этих чисел. Функция average_calculator должна возвращать результат работы вложенной функции."
   ]
  },
  {
   "cell_type": "code",
   "execution_count": null,
   "metadata": {
    "id": "AuwIjRISH1Ai"
   },
   "outputs": [],
   "source": [
    "# Основная функция с вложенной функцией для вычисления среднего\n",
    "def average_calculator(numbers):\n",
    "    # Ваш код...\n",
    "\n",
    "# Вызов функции\n",
    "numbers = [10, 20, 30, 40, 50]\n",
    "average = average_calculator(numbers)\n",
    "average"
   ]
  },
  {
   "cell_type": "markdown",
   "metadata": {
    "id": "sLJQ4TNyJBhs"
   },
   "source": [
    "# Задание 18. Вложенные функции для проверки диапазона\n",
    "Создайте функцию range_check, которая принимает число и два предела (min и max). Внутри функции range_check определите вложенную функцию is_within_range, которая проверяет, входит ли число в заданный диапазон (включительно). Функция range_check должна возвращать результат проверки.\n",
    "\n",
    "P.S. Операторы:\n",
    "- `>` (больше);\n",
    "- `<` (меньше);\n",
    "- `>=`(больше или равно);\n",
    "- `<=`(меньше или равно)."
   ]
  },
  {
   "cell_type": "code",
   "execution_count": null,
   "metadata": {
    "id": "j9hnBx6hINxf"
   },
   "outputs": [],
   "source": [
    "# Основная функция с вложенной функцией для проверки диапазона\n",
    "def range_check(number, min_val, max_val):\n",
    "    # Ваш код...\n",
    "\n",
    "# Вызов функции\n",
    "number = 10\n",
    "result = range_check(number, 5, 15)\n",
    "print(f\"Число {number} в диапазоне от 5 до 15: {result}\")"
   ]
  },
  {
   "cell_type": "markdown",
   "metadata": {
    "id": "K4dfkWv1KQO3"
   },
   "source": [
    "# Задание 19. Сумма цифр числа\n",
    "Напишите рекурсивную функцию sum_of_digits, которая принимает целое число и возвращает сумму его цифр."
   ]
  },
  {
   "cell_type": "code",
   "execution_count": null,
   "metadata": {
    "id": "MXZqTUykKPrn"
   },
   "outputs": [],
   "source": [
    "# Рекурсивная функция для нахождения суммы цифр числа\n",
    "def sum_of_digits(n):\n",
    "    # Ваш код...\n",
    "\n",
    "# Вызов функции\n",
    "result = sum_of_digits(12345)\n",
    "result"
   ]
  },
  {
   "cell_type": "markdown",
   "metadata": {
    "id": "fJkIc3LdKeiT"
   },
   "source": [
    "# Задание 20. Нахождение наибольшего общего делителя (НОД)\n",
    "Напишите рекурсивную функцию gcd, которая принимает два числа и возвращает их наибольший общий делитель (НОД) с использованием алгоритма Евклида."
   ]
  },
  {
   "cell_type": "code",
   "execution_count": null,
   "metadata": {
    "id": "BcDZRWrUKuaW"
   },
   "outputs": [],
   "source": [
    "# Рекурсивная функция для нахождения НОД\n",
    "def gcd(a, b):\n",
    "    # Ваш код...\n",
    "\n",
    "# Вызов функции\n",
    "result = gcd(48, 18)\n",
    "result"
   ]
  },
  {
   "cell_type": "markdown",
   "metadata": {
    "id": "9Ewa3srFK4T6"
   },
   "source": [
    "# Задание 21. Рекурсивное вычисление степени числа\n",
    "Напишите рекурсивную функцию power, которая принимает два числа (основание и показатель) и возвращает результат возведения основания в указанную степень."
   ]
  },
  {
   "cell_type": "code",
   "execution_count": null,
   "metadata": {
    "id": "GAUa2X0wLDLh"
   },
   "outputs": [],
   "source": [
    "# Рекурсивная функция для возведения числа в степень\n",
    "def power(base, exp):\n",
    "    # Ваш код...\n",
    "\n",
    "# Вызов функции\n",
    "result = power(2, 3)\n",
    "print(\"2 в степени 3:\", result)"
   ]
  },
  {
   "cell_type": "markdown",
   "metadata": {
    "id": "aIzGndO2LJbz"
   },
   "source": [
    "# Задание 22. Фильтрация списка по условию\n",
    "Используйте лямбда-функцию и функцию filter, чтобы отфильтровать список и оставить только четные числа."
   ]
  },
  {
   "cell_type": "code",
   "execution_count": null,
   "metadata": {
    "id": "pdiTPV4fLFP3"
   },
   "outputs": [],
   "source": [
    "# Лямбда-функция для фильтрации четных чисел\n",
    "numbers = [1, 2, 3, 4, 5, 6, 7, 8, 9, 10]\n",
    "# Ваш код..."
   ]
  },
  {
   "cell_type": "markdown",
   "metadata": {
    "id": "7oVjKs8oLoGi"
   },
   "source": [
    "# Задание 23. Умножение каждого элемента списка на 2\n",
    "Используйте лямбда-функцию и функцию map, чтобы умножить каждый элемент списка на 2."
   ]
  },
  {
   "cell_type": "code",
   "execution_count": null,
   "metadata": {
    "id": "Z39_52iYLnXf"
   },
   "outputs": [],
   "source": [
    "# Лямбда-функция для умножения каждого элемента на 2\n",
    "numbers = [1, 2, 3, 4, 5]\n",
    "# Ваш код..."
   ]
  }
 ],
 "metadata": {
  "colab": {
   "provenance": []
  },
  "kernelspec": {
   "display_name": "Python 3 (ipykernel)",
   "language": "python",
   "name": "python3"
  },
  "language_info": {
   "codemirror_mode": {
    "name": "ipython",
    "version": 3
   },
   "file_extension": ".py",
   "mimetype": "text/x-python",
   "name": "python",
   "nbconvert_exporter": "python",
   "pygments_lexer": "ipython3",
   "version": "3.12.4"
  }
 },
 "nbformat": 4,
 "nbformat_minor": 4
}
